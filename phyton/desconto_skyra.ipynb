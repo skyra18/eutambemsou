{
  "nbformat": 4,
  "nbformat_minor": 0,
  "metadata": {
    "colab": {
      "provenance": []
    },
    "kernelspec": {
      "name": "python3",
      "display_name": "Python 3"
    },
    "language_info": {
      "name": "python"
    }
  },
  "cells": [
    {
      "cell_type": "code",
      "execution_count": null,
      "metadata": {
        "colab": {
          "base_uri": "https://localhost:8080/"
        },
        "id": "tJaK1mmBpSO7",
        "outputId": "a39257cd-b3d9-41b7-c463-db4ba518eb30"
      },
      "outputs": [
        {
          "output_type": "stream",
          "name": "stdout",
          "text": [
            "Qual é o valor da sua compra?100\n",
            "100.0\n",
            "O valor da sua compra com 10% de desconto é 90.0 reais\n"
          ]
        }
      ],
      "source": [
        "# Quiz - Skyra\n",
        "\n",
        "#Problema: Calcular 10% de desconto em uma compra\n",
        "\n",
        "#Enunciado:\n",
        "#Peça ao usuário o valor da compra.\n",
        "#Calcule e mostre o valor final com 10% de desconto fixo.\n",
        "\n",
        "valor = float(input(\"Qual é o valor da sua compra?\"))\n",
        "print(valor)\n",
        "\n",
        "valorcomdesconto = valor * 0.9\n",
        "print(\"O valor da sua compra com 10% de desconto é {} reais\" . format(valorcomdesconto))\n",
        "\n"
      ]
    }
  ]
}